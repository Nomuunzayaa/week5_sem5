{
 "cells": [
  {
   "cell_type": "code",
   "execution_count": 5,
   "id": "5af48ac0",
   "metadata": {},
   "outputs": [
    {
     "name": "stdout",
     "output_type": "stream",
     "text": [
      "орц:6\n",
      "* \n",
      "* * \n",
      "* * * \n",
      "* * * * \n",
      "* * * * * \n",
      "* * * * * * \n"
     ]
    }
   ],
   "source": [
    "#1\n",
    "rows = int(input('орц:', ))\n",
    "for i in range(0, rows):\n",
    "    for j in range(0, i + 1):\n",
    "        print(\"*\", end=' ')\n",
    "    print(\"\\r\")\n"
   ]
  },
  {
   "cell_type": "code",
   "execution_count": 1,
   "id": "73f19f4a",
   "metadata": {},
   "outputs": [
    {
     "data": {
      "text/plain": [
       "('Oyun', 'Bat')"
      ]
     },
     "execution_count": 1,
     "metadata": {},
     "output_type": "execute_result"
    }
   ],
   "source": [
    "#3\n",
    "students = {'Bat':18, 'Oyun':22, 'Dulam':21, 'Suren':20}\n",
    "def y(students):\n",
    "    a = max(students, key=students.get)\n",
    "    b = min(students, key=students.get)\n",
    "    y = (a,b)\n",
    "    return y\n",
    "\n",
    "y(students)"
   ]
  },
  {
   "cell_type": "code",
   "execution_count": 3,
   "id": "a9779db1",
   "metadata": {},
   "outputs": [
    {
     "name": "stdout",
     "output_type": "stream",
     "text": [
      "47\n"
     ]
    }
   ],
   "source": [
    "#4\n",
    "import numpy as np\n",
    "aa = np.arange(1, 1000, 1)\n",
    "aa\n",
    "def bb(aa):\n",
    "    s=0\n",
    "    for i in aa:\n",
    "        if i%3==0 and i%7==0:\n",
    "            s=s+1\n",
    "    return s\n",
    "print(bb(aa))"
   ]
  },
  {
   "cell_type": "code",
   "execution_count": null,
   "id": "9cc45079",
   "metadata": {},
   "outputs": [],
   "source": []
  }
 ],
 "metadata": {
  "kernelspec": {
   "display_name": "Python 3 (ipykernel)",
   "language": "python",
   "name": "python3"
  },
  "language_info": {
   "codemirror_mode": {
    "name": "ipython",
    "version": 3
   },
   "file_extension": ".py",
   "mimetype": "text/x-python",
   "name": "python",
   "nbconvert_exporter": "python",
   "pygments_lexer": "ipython3",
   "version": "3.9.7"
  }
 },
 "nbformat": 4,
 "nbformat_minor": 5
}
